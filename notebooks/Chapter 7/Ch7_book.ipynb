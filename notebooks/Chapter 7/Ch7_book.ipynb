{
 "cells": [
  {
   "cell_type": "markdown",
   "metadata": {},
   "source": [
    "# Chapter 7 - Distributional Q-learning"
   ]
  },
  {
   "cell_type": "code",
   "execution_count": 1,
   "metadata": {},
   "outputs": [
    {
     "name": "stdout",
     "output_type": "stream",
     "text": [
      "18.4\n"
     ]
    }
   ],
   "source": [
    "import numpy as np\n",
    "probs = np.array([0.6, 0.1, 0.1, 0.1, 0.1])\n",
    "outcomes = np.array([18, 21, 17, 17, 21])\n",
    "expected_value = 0.0\n",
    "for i in range(probs.shape[0]):\n",
    "    expected_value += probs[i] * outcomes[i]\n",
    "\n",
    "print(expected_value)"
   ]
  },
  {
   "cell_type": "code",
   "execution_count": 2,
   "metadata": {},
   "outputs": [
    {
     "name": "stdout",
     "output_type": "stream",
     "text": [
      "18.4\n"
     ]
    }
   ],
   "source": [
    "expected_value = probs @ outcomes\n",
    "print(expected_value)"
   ]
  },
  {
   "cell_type": "code",
   "execution_count": 3,
   "metadata": {},
   "outputs": [
    {
     "data": {
      "text/plain": [
       "array([18.39613106])"
      ]
     },
     "execution_count": 3,
     "metadata": {},
     "output_type": "execute_result"
    }
   ],
   "source": [
    "t0 = 18.4\n",
    "T = lambda: t0 + np.random.randn(1)\n",
    "T()"
   ]
  },
  {
   "cell_type": "markdown",
   "metadata": {},
   "source": [
    "# Representing probability distribution "
   ]
  },
  {
   "cell_type": "markdown",
   "metadata": {},
   "source": [
    "##### Listing 7.1 - discrete probability distribution"
   ]
  },
  {
   "cell_type": "code",
   "execution_count": 186,
   "metadata": {},
   "outputs": [
    {
     "data": {
      "image/png": "[encoded data removed]",
      "text/plain": [
       "<Figure size 432x288 with 1 Axes>"
      ]
     },
     "metadata": {
      "needs_background": "light"
     },
     "output_type": "display_data"
    }
   ],
   "source": [
    "import torch\n",
    "import numpy as np\n",
    "from matplotlib import pyplot as plt\n",
    "\n",
    "vmin,vmax = -10.,10. #1: minimum and maximum values of the support of the distribution\n",
    "nsup=51 #2: the number of elements of the support\n",
    "support = np.linspace(vmin,vmax,nsup) #3: support tensor; evenly spaced values from -10 to +10\n",
    "probs = np.ones(nsup)\n",
    "probs /= probs.sum()\n",
    "z3 = torch.from_numpy(probs).float()\n",
    "plt.bar(support,probs) #4: plotting\n",
    "plt.show()"
   ]
  },
  {
   "cell_type": "markdown",
   "metadata": {},
   "source": [
    "##### Listing 7.2 - updating a probability distribution"
   ]
  },
  {
   "cell_type": "code",
   "execution_count": 21,
   "metadata": {},
   "outputs": [],
   "source": [
    "def update_dist(r,support,probs,lim=(-10.,10.),gamma=0.8):\n",
    "    nsup = probs.shape[0]\n",
    "    vmin,vmax = lim[0],lim[1]\n",
    "    dz = (vmax-vmin)/(nsup-1.) #1: calculates the support spacing value\n",
    "    bj = np.round((r-vmin)/dz) #2: calculates the index value of the observed reward in the support\n",
    "    bj = int(np.clip(bj,0,nsup-1)) #3: rounds and clips the value to make sure it is a valid index value for the support\n",
    "    m = probs.clone()\n",
    "    j = 1.0\n",
    "    for i in range(bj,1,-1): #4: starting from the immediate left neighbor, steals part of its probability\n",
    "        m[i] += np.power(gamma,j) * m[i-1]\n",
    "        j += 1\n",
    "    j = 1\n",
    "    for i in range(bj,nsup-1,1): #5:starting from the immediate right neighbor, steals part of its probability\n",
    "        m[i] += np.power(gamma,j) * m[i+1]\n",
    "        j += 1\n",
    "    m /= m.sum() #6: divides by the sum to make sure it sums to 1\n",
    "    return m"
   ]
  },
  {
   "cell_type": "code",
   "execution_count": 188,
   "metadata": {},
   "outputs": [
    {
     "data": {
      "text/plain": [
       "array([0.01960784, 0.01960784, 0.01960784, 0.01960784, 0.01960784,\n",
       "       0.01960784, 0.01960784, 0.01960784, 0.01960784, 0.01960784,\n",
       "       0.01960784, 0.01960784, 0.01960784, 0.01960784, 0.01960784,\n",
       "       0.01960784, 0.01960784, 0.01960784, 0.01960784, 0.01960784,\n",
       "       0.01960784, 0.01960784, 0.01960784, 0.01960784, 0.01960784,\n",
       "       0.01960784, 0.01960784, 0.01960784, 0.01960784, 0.01960784,\n",
       "       0.01960784, 0.01960784, 0.01960784, 0.01960784, 0.01960784,\n",
       "       0.01960784, 0.01960784, 0.01960784, 0.01960784, 0.01960784,\n",
       "       0.01960784, 0.01960784, 0.01960784, 0.01960784, 0.01960784,\n",
       "       0.01960784, 0.01960784, 0.01960784, 0.01960784, 0.01960784,\n",
       "       0.01960784])"
      ]
     },
     "execution_count": 188,
     "metadata": {},
     "output_type": "execute_result"
    }
   ],
   "source": [
    "probs"
   ]
  },
  {
   "cell_type": "code",
   "execution_count": 189,
   "metadata": {},
   "outputs": [
    {
     "data": {
      "text/plain": [
       "<BarContainer object of 51 artists>"
      ]
     },
     "execution_count": 189,
     "metadata": {},
     "output_type": "execute_result"
    },
    {
     "data": {
      "image/png": "[encoded data removed]",
      "text/plain": [
       "<Figure size 432x288 with 1 Axes>"
      ]
     },
     "metadata": {
      "needs_background": "light"
     },
     "output_type": "display_data"
    }
   ],
   "source": [
    "plt.bar(support, probs)"
   ]
  },
  {
   "cell_type": "markdown",
   "metadata": {},
   "source": [
    "##### Listing 7.3 - redistributing probability mass after a single obserevation"
   ]
  },
  {
   "cell_type": "code",
   "execution_count": 190,
   "metadata": {},
   "outputs": [
    {
     "data": {
      "text/plain": [
       "<BarContainer object of 51 artists>"
      ]
     },
     "execution_count": 190,
     "metadata": {},
     "output_type": "execute_result"
    },
    {
     "data": {
      "image/png": "[encoded data removed]",
      "text/plain": [
       "<Figure size 432x288 with 1 Axes>"
      ]
     },
     "metadata": {
      "needs_background": "light"
     },
     "output_type": "display_data"
    }
   ],
   "source": [
    "ob_reward = -1\n",
    "Z = torch.from_numpy(probs)\n",
    "Z = update_dist(ob_reward, torch.from_numpy(support), Z, lim=(vmin,vmax), gamma=0.4) # bigger gamma -> bigger `bump`\n",
    "plt.bar(support, Z)"
   ]
  },
  {
   "cell_type": "markdown",
   "metadata": {},
   "source": [
    "##### Listing 7.4 - redistributing probability mass with a sequence of observations"
   ]
  },
  {
   "cell_type": "code",
   "execution_count": 9,
   "metadata": {},
   "outputs": [
    {
     "data": {
      "text/plain": [
       "<BarContainer object of 51 artists>"
      ]
     },
     "execution_count": 9,
     "metadata": {},
     "output_type": "execute_result"
    },
    {
     "data": {
      "image/png": "[encoded data removed]",
      "text/plain": [
       "<Figure size 432x288 with 1 Axes>"
      ]
     },
     "metadata": {
      "needs_background": "light"
     },
     "output_type": "display_data"
    }
   ],
   "source": [
    "ob_rewards = [10,10,10,0,1,0,-10,-10,10,10] # example reward values; peaks correspond to the four types of observed reward values\n",
    "for i in range(len(ob_rewards)):\n",
    "    Z = update_dist(ob_rewards[i], torch.from_numpy(support).float(), Z, lim=(vmin,vmax), gamma=0.5)\n",
    "plt.bar(support, Z)"
   ]
  },
  {
   "cell_type": "markdown",
   "metadata": {},
   "source": [
    "##### Listing 7.5 - decreased variance with sequence of same reward"
   ]
  },
  {
   "cell_type": "code",
   "execution_count": 10,
   "metadata": {},
   "outputs": [
    {
     "data": {
      "text/plain": [
       "<BarContainer object of 51 artists>"
      ]
     },
     "execution_count": 10,
     "metadata": {},
     "output_type": "execute_result"
    },
    {
     "data": {
      "image/png": "[encoded data removed]",
      "text/plain": [
       "<Figure size 432x288 with 1 Axes>"
      ]
     },
     "metadata": {
      "needs_background": "light"
     },
     "output_type": "display_data"
    }
   ],
   "source": [
    "ob_rewards = [5, 5, 5, 5, 5, 5, 5, 5, 5, 5, 5, 5, 5, 5, 5, 5, 5, 5, 5, 5] # variance decreases as using same rewards multiple times\n",
    "for i in range(len(ob_rewards)):\n",
    "    Z = update_dist(ob_rewards[i], torch.from_numpy(support).float(), \\\n",
    "    Z, lim=(vmin,vmax), gamma=0.7)\n",
    "plt.bar(support, Z)"
   ]
  },
  {
   "cell_type": "markdown",
   "metadata": {},
   "source": [
    "# Dist-DQN "
   ]
  },
  {
   "cell_type": "markdown",
   "metadata": {},
   "source": [
    "##### Listing 7.6 - the dist-DQN"
   ]
  },
  {
   "cell_type": "code",
   "execution_count": 9,
   "metadata": {},
   "outputs": [],
   "source": [
    "def dist_dqn(x,theta,aspace=3): #1: x: 128-element vector state; theta: parameter; aspace: the size of the action space\n",
    "    dim0,dim1,dim2,dim3 = 128,100,25,51 #2: the layer dimensions\n",
    "    t1 = dim0*dim1\n",
    "    t2 = dim2*dim1\n",
    "    theta1 = theta[0:t1].reshape(dim0,dim1) #3: unpacks the first proportion of theta into the first layer matrix\n",
    "    theta2 = theta[t1:t1 + t2].reshape(dim1,dim2)\n",
    "    l1 = x @ theta1 #4: Bx128 @ 128x100 = Bx100 (B: batch size)\n",
    "    l1 = torch.selu(l1)\n",
    "    l2 = l1 @ theta2 #5: Bx100 @ 100x25 = Bx25\n",
    "    l2 = torch.selu(l2)\n",
    "    l3 = []\n",
    "    for i in range(aspace): #6: loops through each action to generate each action-value distribution\n",
    "        step = dim2*dim3\n",
    "        theta5_dim = t1 + t2 + i * step\n",
    "        theta5 = theta[theta5_dim:theta5_dim+step].reshape(dim2,dim3)\n",
    "        l3_ = l2 @ theta5 #7: Bx25 @ 25x51 = Bx51\n",
    "        l3.append(l3_)\n",
    "    l3 = torch.stack(l3,dim=1) #8: Bx3x51\n",
    "    l3 = torch.nn.functional.softmax(l3,dim=2)\n",
    "    return l3.squeeze()"
   ]
  },
  {
   "cell_type": "markdown",
   "metadata": {},
   "source": [
    "##### Listing 7.5 - computing the tagetdistribtion"
   ]
  },
  {
   "cell_type": "code",
   "execution_count": 10,
   "metadata": {},
   "outputs": [],
   "source": [
    "def get_target_dist(dist_batch,action_batch,reward_batch,support,lim=(-10,10),gamma=0.8):\n",
    "    nsup = support.shape[0]\n",
    "    vmin,vmax = lim[0],lim[1]\n",
    "    dz = (vmax-vmin)/(nsup-1.)\n",
    "    target_dist_batch = dist_batch.clone()\n",
    "    for i in range(dist_batch.shape[0]): #1: loops through the batch dimension\n",
    "        dist_full = dist_batch[i]\n",
    "        action = int(action_batch[i].item())\n",
    "        dist = dist_full[action]\n",
    "        r = reward_batch[i]\n",
    "        if r != -1: #2: if the reward is not 01 -> terminal state; the target is a degenerate distribution at the reward value\n",
    "            target_dist = torch.zeros(nsup)\n",
    "            bj = np.round((r-vmin)/dz)\n",
    "            bj = int(np.clip(bj,0,nsup-1))\n",
    "            target_dist[bj] = 1.\n",
    "        else: #3: if the state is non-terminal -> the target distribution is a Bayesian update of the prior given the reward\n",
    "            target_dist = update_dist(r,support,dist,lim=lim,gamma=gamma)\n",
    "        target_dist_batch[i,action,:] = target_dist #4: only changes the distribution for the action that was taken\n",
    "        \n",
    "    return target_dist_batch"
   ]
  },
  {
   "cell_type": "markdown",
   "metadata": {},
   "source": [
    "##### Listing 7.8 - using cross-entropy as a loss function"
   ]
  },
  {
   "cell_type": "code",
   "execution_count": 11,
   "metadata": {},
   "outputs": [],
   "source": [
    "def lossfn(x,y):#1: using cross-entropy to measure loss between prediction distribution(x) and target distribution(y)\n",
    "    loss = torch.Tensor([0.])\n",
    "    loss.requires_grad=True\n",
    "    for i in range(x.shape[0]): #2: loops through batch dimension\n",
    "        loss_ = -1 *  torch.log(x[i].flatten(start_dim=0)) @ y[i].flatten(start_dim=0) #3: flattens along action dimension to get a concatenated sequence of the distributions\n",
    "        loss = loss + loss_\n",
    "    return loss"
   ]
  },
  {
   "cell_type": "markdown",
   "metadata": {},
   "source": [
    "##### Listing 7.9"
   ]
  },
  {
   "cell_type": "code",
   "execution_count": 12,
   "metadata": {},
   "outputs": [
    {
     "data": {
      "text/plain": [
       "<matplotlib.legend.Legend at 0x121f919e8>"
      ]
     },
     "execution_count": 12,
     "metadata": {},
     "output_type": "execute_result"
    },
    {
     "data": {
      "image/png": "[encoded data removed]",
      "text/plain": [
       "<Figure size 432x288 with 1 Axes>"
      ]
     },
     "metadata": {
      "needs_background": "light"
     },
     "output_type": "display_data"
    }
   ],
   "source": [
    "aspace = 3 #1: defines the action space (=3)\n",
    "tot_params = 128*100 + 25*100 + aspace*25*51 #2: the total number of Dist-DQN parameters (=layer sizes)\n",
    "theta = torch.randn(tot_params)/10. #3: randomly initializes a parameter vector for Dist-DQN\n",
    "theta.requires_grad=True\n",
    "theta_2 = theta.detach().clone() #4: clones theta to use as a target network\n",
    "\n",
    "vmin,vmax= -10,10\n",
    "gamma=0.9\n",
    "lr = 0.00001\n",
    "update_rate = 75 #5: synchronizes the main and target Dist-DQN parameters every 75 steps\n",
    "support = torch.linspace(-10,10,51)\n",
    "state = torch.randn(2,128)/10. #6: Randomly initializes two states for testing\n",
    "action_batch = torch.Tensor([0,2]) #7: creates synthetic action data\n",
    "reward_batch = torch.Tensor([0,10]) #8: creates synthetic rewrad data\n",
    "losses = [] \n",
    "pred_batch = dist_dqn(state,theta,aspace=aspace) #9: initializes a prediction batch\n",
    "target_dist = get_target_dist(pred_batch,action_batch,reward_batch, \\\n",
    "                                 support, lim=(vmin,vmax),gamma=gamma) #10: initializes a target batch\n",
    "\n",
    "plt.plot((target_dist.flatten(start_dim=1)[0].data.numpy()),color='red',label='target')\n",
    "plt.plot((pred_batch.flatten(start_dim=1)[0].data.numpy()),color='green',label='pred')\n",
    "plt.legend()"
   ]
  },
  {
   "cell_type": "code",
   "execution_count": 13,
   "metadata": {},
   "outputs": [
    {
     "data": {
      "text/plain": [
       "(tensor([[[0.0181, 0.0201, 0.0194, 0.0195, 0.0171, 0.0193, 0.0184, 0.0198,\n",
       "           0.0226, 0.0174, 0.0222, 0.0191, 0.0190, 0.0192, 0.0197, 0.0202,\n",
       "           0.0180, 0.0232, 0.0223, 0.0195, 0.0192, 0.0187, 0.0209, 0.0204,\n",
       "           0.0186, 0.0189, 0.0211, 0.0203, 0.0200, 0.0195, 0.0197, 0.0190,\n",
       "           0.0188, 0.0183, 0.0194, 0.0204, 0.0175, 0.0219, 0.0197, 0.0180,\n",
       "           0.0200, 0.0181, 0.0170, 0.0194, 0.0177, 0.0212, 0.0209, 0.0180,\n",
       "           0.0201, 0.0206, 0.0226],\n",
       "          [0.0198, 0.0212, 0.0177, 0.0181, 0.0180, 0.0184, 0.0162, 0.0207,\n",
       "           0.0210, 0.0225, 0.0192, 0.0193, 0.0170, 0.0188, 0.0186, 0.0213,\n",
       "           0.0169, 0.0164, 0.0170, 0.0208, 0.0203, 0.0207, 0.0160, 0.0179,\n",
       "           0.0207, 0.0182, 0.0191, 0.0186, 0.0211, 0.0222, 0.0203, 0.0188,\n",
       "           0.0197, 0.0209, 0.0239, 0.0187, 0.0208, 0.0211, 0.0186, 0.0217,\n",
       "           0.0216, 0.0198, 0.0210, 0.0190, 0.0219, 0.0181, 0.0215, 0.0200,\n",
       "           0.0196, 0.0185, 0.0211],\n",
       "          [0.0216, 0.0221, 0.0189, 0.0215, 0.0193, 0.0176, 0.0181, 0.0189,\n",
       "           0.0183, 0.0199, 0.0207, 0.0180, 0.0223, 0.0198, 0.0170, 0.0189,\n",
       "           0.0154, 0.0203, 0.0187, 0.0195, 0.0219, 0.0204, 0.0199, 0.0212,\n",
       "           0.0164, 0.0208, 0.0187, 0.0206, 0.0198, 0.0196, 0.0210, 0.0177,\n",
       "           0.0214, 0.0181, 0.0230, 0.0172, 0.0199, 0.0206, 0.0159, 0.0184,\n",
       "           0.0199, 0.0222, 0.0201, 0.0194, 0.0205, 0.0202, 0.0194, 0.0213,\n",
       "           0.0191, 0.0176, 0.0211]],\n",
       " \n",
       "         [[0.0204, 0.0192, 0.0188, 0.0161, 0.0212, 0.0188, 0.0178, 0.0228,\n",
       "           0.0177, 0.0189, 0.0188, 0.0215, 0.0200, 0.0203, 0.0189, 0.0276,\n",
       "           0.0188, 0.0146, 0.0202, 0.0172, 0.0207, 0.0221, 0.0198, 0.0188,\n",
       "           0.0177, 0.0215, 0.0217, 0.0183, 0.0199, 0.0187, 0.0219, 0.0190,\n",
       "           0.0227, 0.0175, 0.0213, 0.0198, 0.0163, 0.0144, 0.0185, 0.0214,\n",
       "           0.0191, 0.0226, 0.0183, 0.0187, 0.0151, 0.0230, 0.0224, 0.0168,\n",
       "           0.0198, 0.0197, 0.0229],\n",
       "          [0.0185, 0.0157, 0.0211, 0.0190, 0.0215, 0.0196, 0.0227, 0.0188,\n",
       "           0.0214, 0.0239, 0.0222, 0.0178, 0.0293, 0.0224, 0.0206, 0.0188,\n",
       "           0.0175, 0.0219, 0.0223, 0.0212, 0.0192, 0.0234, 0.0179, 0.0194,\n",
       "           0.0195, 0.0193, 0.0197, 0.0187, 0.0176, 0.0181, 0.0182, 0.0226,\n",
       "           0.0173, 0.0199, 0.0186, 0.0164, 0.0186, 0.0175, 0.0201, 0.0165,\n",
       "           0.0203, 0.0167, 0.0213, 0.0192, 0.0182, 0.0202, 0.0173, 0.0177,\n",
       "           0.0174, 0.0161, 0.0211],\n",
       "          [0.0199, 0.0245, 0.0172, 0.0173, 0.0195, 0.0173, 0.0201, 0.0172,\n",
       "           0.0174, 0.0186, 0.0190, 0.0188, 0.0208, 0.0212, 0.0191, 0.0212,\n",
       "           0.0223, 0.0168, 0.0164, 0.0187, 0.0182, 0.0233, 0.0212, 0.0174,\n",
       "           0.0233, 0.0164, 0.0220, 0.0216, 0.0205, 0.0182, 0.0196, 0.0226,\n",
       "           0.0183, 0.0206, 0.0239, 0.0168, 0.0186, 0.0204, 0.0182, 0.0190,\n",
       "           0.0185, 0.0196, 0.0188, 0.0227, 0.0169, 0.0163, 0.0248, 0.0216,\n",
       "           0.0208, 0.0187, 0.0178]]], grad_fn=<SqueezeBackward0>),\n",
       " tensor([0., 2.]),\n",
       " tensor([ 0., 10.]),\n",
       " tensor([-10.0000,  -9.6000,  -9.2000,  -8.8000,  -8.4000,  -8.0000,  -7.6000,\n",
       "          -7.2000,  -6.8000,  -6.4000,  -6.0000,  -5.6000,  -5.2000,  -4.8000,\n",
       "          -4.4000,  -4.0000,  -3.6000,  -3.2000,  -2.8000,  -2.4000,  -2.0000,\n",
       "          -1.6000,  -1.2000,  -0.8000,  -0.4000,   0.0000,   0.4000,   0.8000,\n",
       "           1.2000,   1.6000,   2.0000,   2.4000,   2.8000,   3.2000,   3.6000,\n",
       "           4.0000,   4.4000,   4.8000,   5.2000,   5.6000,   6.0000,   6.4000,\n",
       "           6.8000,   7.2000,   7.6000,   8.0000,   8.4000,   8.8000,   9.2000,\n",
       "           9.6000,  10.0000]),\n",
       " (-10, 10),\n",
       " 0.9)"
      ]
     },
     "execution_count": 13,
     "metadata": {},
     "output_type": "execute_result"
    }
   ],
   "source": [
    "(pred_batch,action_batch,reward_batch, support, (vmin,vmax), gamma)"
   ]
  },
  {
   "cell_type": "markdown",
   "metadata": {},
   "source": [
    "##### Listing 7.10 - Dist-DQN training on synthetic data"
   ]
  },
  {
   "cell_type": "code",
   "execution_count": 14,
   "metadata": {},
   "outputs": [],
   "source": [
    "for i in range(1000):\n",
    "    reward_batch = torch.Tensor([0,8]) + torch.randn(2)/10.0 #1: Adds some random noise to the rewards to mitigate overfitting\n",
    "    pred_batch = dist_dqn(state,theta,aspace=aspace) #2: uses the main model Dist-DQN to make distribution predictions\n",
    "    pred_batch2 = dist_dqn(state,theta_2,aspace=aspace) #3: uses the target network Dist-DQN to make distribution predictions (using lagged parameters)\n",
    "    target_dist = get_target_dist(pred_batch2,action_batch,reward_batch, \\\n",
    "                                 support, lim=(vmin,vmax),gamma=gamma) #4: uses the target network's distributions to create the target distribution for learning\n",
    "    loss = lossfn(pred_batch,target_dist.detach()) #5: uses the main model's distribution prediction in the loss function\n",
    "    losses.append(loss.item())\n",
    "    loss.backward()\n",
    "    # Gradient Descent\n",
    "    with torch.no_grad():\n",
    "        theta -= lr * theta.grad\n",
    "    theta.requires_grad = True\n",
    "    \n",
    "    if i % update_rate == 0: #6: synchronizes the target network parameters with the main model parameters\n",
    "        theta_2 = theta.detach().clone()"
   ]
  },
  {
   "cell_type": "code",
   "execution_count": 15,
   "metadata": {},
   "outputs": [
    {
     "data": {
      "text/plain": [
       "<matplotlib.legend.Legend at 0x11e9014e0>"
      ]
     },
     "execution_count": 15,
     "metadata": {},
     "output_type": "execute_result"
    },
    {
     "data": {
      "image/png": "[encoded data removed]",
      "text/plain": [
       "<Figure size 432x288 with 1 Axes>"
      ]
     },
     "metadata": {
      "needs_background": "light"
     },
     "output_type": "display_data"
    }
   ],
   "source": [
    "# The concatenated action-value distributions for all three actions after training \n",
    "plt.plot((target_dist.flatten(start_dim=1)[0].data.numpy()),color='red',label='target')\n",
    "plt.plot((pred_batch.flatten(start_dim=1)[0].data.numpy()),color='green',label='pred')\n",
    "plt.ylabel(\"Probability\")\n",
    "# plt.xlabel(\"No-OP               UP, DOWN\")\n",
    "plt.legend()"
   ]
  },
  {
   "cell_type": "code",
   "execution_count": 16,
   "metadata": {},
   "outputs": [
    {
     "data": {
      "text/plain": [
       "Text(0.5,0,'Epochs')"
      ]
     },
     "execution_count": 16,
     "metadata": {},
     "output_type": "execute_result"
    },
    {
     "data": {
      "image/png": "[encoded data removed]",
      "text/plain": [
       "<Figure size 432x288 with 1 Axes>"
      ]
     },
     "metadata": {
      "needs_background": "light"
     },
     "output_type": "display_data"
    }
   ],
   "source": [
    "# Loss plot over time.\n",
    "# The baseline loss is decreasing, but we see ever-increasing spikes.\n",
    "plt.plot(losses)\n",
    "plt.ylabel(\"Loss\")\n",
    "plt.xlabel(\"Epochs\")"
   ]
  },
  {
   "cell_type": "markdown",
   "metadata": {},
   "source": [
    "##### Listing 7.11 - visualizing the learned action-value distributions"
   ]
  },
  {
   "cell_type": "code",
   "execution_count": 17,
   "metadata": {},
   "outputs": [
    {
     "data": {
      "image/png": "[encoded data removed]",
      "text/plain": [
       "<Figure size 864x432 with 6 Axes>"
      ]
     },
     "metadata": {
      "needs_background": "light"
     },
     "output_type": "display_data"
    }
   ],
   "source": [
    "tpred = pred_batch\n",
    "cs = ['gray','green','red']\n",
    "num_batch = 2\n",
    "labels = ['Action {}'.format(i,) for i in range(aspace)]\n",
    "fig,ax = plt.subplots(nrows=num_batch, ncols=aspace, figsize=(12, 6))\n",
    "\n",
    "for j in range(num_batch): #1: loops through experiences in batch\n",
    "    for i in range(tpred.shape[1]): #2: loops through each action\n",
    "        ax[j,i].bar(support.data.numpy(), tpred[j,i,:].data.numpy(),\n",
    "                    label='Action {}'.format(i),\n",
    "                    alpha=0.3, color=cs[i])"
   ]
  },
  {
   "cell_type": "markdown",
   "metadata": {},
   "source": [
    "##### Listing 7.12 - preprocessing states and selecting actions"
   ]
  },
  {
   "cell_type": "code",
   "execution_count": 18,
   "metadata": {},
   "outputs": [],
   "source": [
    "def preproc_state(state):\n",
    "    p_state = torch.from_numpy(state).unsqueeze(dim=0).float()\n",
    "    p_state = torch.nn.functional.normalize(p_state,dim=1) #1: normalizes state values to be between 0-1\n",
    "    return p_state\n",
    "\n",
    "def get_action(dist,support):\n",
    "    actions = []\n",
    "    for b in range(dist.shape[0]): #2: loops through batch dimension of distribution\n",
    "        expectations = [support @ dist[b,a,:] for a in range(dist.shape[1])] #3: computes the expectation values for each action-value distribution\n",
    "        action = int(np.argmax(expectations)) #4: computs the action associated with the highest expectation value\n",
    "        actions.append(action)\n",
    "    actions = torch.Tensor(actions).int()\n",
    "    return actions"
   ]
  },
  {
   "cell_type": "markdown",
   "metadata": {},
   "source": [
    "##### Listing 7.13 - Dist-DQN plays Freeway, preliminaries"
   ]
  },
  {
   "cell_type": "code",
   "execution_count": 22,
   "metadata": {},
   "outputs": [],
   "source": [
    "import numpy as np\n",
    "import matplotlib.pyplot as plt\n",
    "import torch\n",
    "import gym\n",
    "from collections import deque\n",
    "env = gym.make(\"Freeway-ram-v0\")\n",
    "aspace = 3\n",
    "env.env.get_action_meanings()\n",
    "\n",
    "vmin, vmax = -10, 10\n",
    "replay_size = 200\n",
    "batch_size = 50\n",
    "nsup = 51\n",
    "dz = (vmax - vmin) / (nsup - 1)\n",
    "# support = torch.linspace(vmin, vmax, nsup)\n",
    "support = np.linspace(vmin, vmax, nsup)\n",
    "support = torch.from_numpy(support)\n",
    "\n",
    "\n",
    "replay = deque(maxlen=replay_size) #1: experience replay buffer using the deque data structure\n",
    "lr = 0.0001 #2: learning rate\n",
    "gamma = 0.1 #3: discount factor\n",
    "epochs = 1300 #4: starting epsilon for epsilon-greedy policy\n",
    "eps = 0.20 #5: ending/minimum epsilon\n",
    "eps_min = 0.05 \n",
    "priority_level = 5 # prioritized-replay; duplicates highly informative experiences in the replay this many times\n",
    "update_freq = 25 # 6: updates the target network every 25 times\n",
    "\n",
    "#Initialize DQN parameter vector\n",
    "tot_params = 128*100 + 25*100 + aspace*25*51  #7: the total number of parameters for Dist-DQN\n",
    "theta = torch.randn(tot_params)/10.  #8: randomly initilaizes parameters for Dist-DQN\n",
    "theta.requires_grad = True\n",
    "theta_2 = theta.detach().clone()  #9: initializes parameters for target network\n",
    "losses = []\n",
    "cum_rewards = []\n",
    "renders = []\n",
    "state = preproc_state(env.reset())"
   ]
  },
  {
   "cell_type": "markdown",
   "metadata": {},
   "source": [
    "##### Listing 7.14 - the main training loop"
   ]
  },
  {
   "cell_type": "code",
   "execution_count": 23,
   "metadata": {},
   "outputs": [
    {
     "ename": "RuntimeError",
     "evalue": "Expected object of type torch.FloatTensor but found type torch.DoubleTensor for argument #4 'other'",
     "output_type": "error",
     "traceback": [
      "\u001b[0;31m---------------------------------------------------------------------------\u001b[0m",
      "\u001b[0;31mRuntimeError\u001b[0m                              Traceback (most recent call last)",
      "\u001b[0;32m<ipython-input-23-8b1940ce7173>\u001b[0m in \u001b[0;36m<module>\u001b[0;34m()\u001b[0m\n\u001b[1;32m     35\u001b[0m         \u001b[0mpred2_batch\u001b[0m \u001b[0;34m=\u001b[0m \u001b[0mdist_dqn\u001b[0m\u001b[0;34m(\u001b[0m\u001b[0mstate2_batch\u001b[0m\u001b[0;34m.\u001b[0m\u001b[0mdetach\u001b[0m\u001b[0;34m(\u001b[0m\u001b[0;34m)\u001b[0m\u001b[0;34m,\u001b[0m \u001b[0mtheta_2\u001b[0m\u001b[0;34m,\u001b[0m \u001b[0maspace\u001b[0m\u001b[0;34m=\u001b[0m\u001b[0maspace\u001b[0m\u001b[0;34m)\u001b[0m\u001b[0;34m\u001b[0m\u001b[0;34m\u001b[0m\u001b[0m\n\u001b[1;32m     36\u001b[0m         target_dist = get_target_dist(pred2_batch, action_batch, reward_batch, \n\u001b[0;32m---> 37\u001b[0;31m                                       support, lim=(vmin, vmax), gamma=gamma)\n\u001b[0m\u001b[1;32m     38\u001b[0m         \u001b[0mloss\u001b[0m \u001b[0;34m=\u001b[0m \u001b[0mlossfn\u001b[0m\u001b[0;34m(\u001b[0m\u001b[0mpred_batch\u001b[0m\u001b[0;34m,\u001b[0m \u001b[0mtarget_dist\u001b[0m\u001b[0;34m.\u001b[0m\u001b[0mdetach\u001b[0m\u001b[0;34m(\u001b[0m\u001b[0;34m)\u001b[0m\u001b[0;34m)\u001b[0m\u001b[0;34m\u001b[0m\u001b[0;34m\u001b[0m\u001b[0m\n\u001b[1;32m     39\u001b[0m         \u001b[0mlosses\u001b[0m\u001b[0;34m.\u001b[0m\u001b[0mappend\u001b[0m\u001b[0;34m(\u001b[0m\u001b[0mloss\u001b[0m\u001b[0;34m.\u001b[0m\u001b[0mitem\u001b[0m\u001b[0;34m(\u001b[0m\u001b[0;34m)\u001b[0m\u001b[0;34m)\u001b[0m\u001b[0;34m\u001b[0m\u001b[0;34m\u001b[0m\u001b[0m\n",
      "\u001b[0;32m<ipython-input-10-15db03a1bd04>\u001b[0m in \u001b[0;36mget_target_dist\u001b[0;34m(dist_batch, action_batch, reward_batch, support, lim, gamma)\u001b[0m\n\u001b[1;32m     15\u001b[0m             \u001b[0mtarget_dist\u001b[0m\u001b[0;34m[\u001b[0m\u001b[0mbj\u001b[0m\u001b[0;34m]\u001b[0m \u001b[0;34m=\u001b[0m \u001b[0;36m1.\u001b[0m\u001b[0;34m\u001b[0m\u001b[0;34m\u001b[0m\u001b[0m\n\u001b[1;32m     16\u001b[0m         \u001b[0;32melse\u001b[0m\u001b[0;34m:\u001b[0m \u001b[0;31m#3: if the state is non-terminal -> the target distribution is a Bayesian update of the prior given the reward\u001b[0m\u001b[0;34m\u001b[0m\u001b[0;34m\u001b[0m\u001b[0m\n\u001b[0;32m---> 17\u001b[0;31m             \u001b[0mtarget_dist\u001b[0m \u001b[0;34m=\u001b[0m \u001b[0mupdate_dist\u001b[0m\u001b[0;34m(\u001b[0m\u001b[0mr\u001b[0m\u001b[0;34m,\u001b[0m\u001b[0msupport\u001b[0m\u001b[0;34m,\u001b[0m\u001b[0mdist\u001b[0m\u001b[0;34m,\u001b[0m\u001b[0mlim\u001b[0m\u001b[0;34m=\u001b[0m\u001b[0mlim\u001b[0m\u001b[0;34m,\u001b[0m\u001b[0mgamma\u001b[0m\u001b[0;34m=\u001b[0m\u001b[0mgamma\u001b[0m\u001b[0;34m)\u001b[0m\u001b[0;34m\u001b[0m\u001b[0;34m\u001b[0m\u001b[0m\n\u001b[0m\u001b[1;32m     18\u001b[0m         \u001b[0mtarget_dist_batch\u001b[0m\u001b[0;34m[\u001b[0m\u001b[0mi\u001b[0m\u001b[0;34m,\u001b[0m\u001b[0maction\u001b[0m\u001b[0;34m,\u001b[0m\u001b[0;34m:\u001b[0m\u001b[0;34m]\u001b[0m \u001b[0;34m=\u001b[0m \u001b[0mtarget_dist\u001b[0m \u001b[0;31m#4: only changes the distribution for the action that was taken\u001b[0m\u001b[0;34m\u001b[0m\u001b[0;34m\u001b[0m\u001b[0m\n\u001b[1;32m     19\u001b[0m \u001b[0;34m\u001b[0m\u001b[0m\n",
      "\u001b[0;32m<ipython-input-21-bf1dcda7375e>\u001b[0m in \u001b[0;36mupdate_dist\u001b[0;34m(r, support, probs, lim, gamma)\u001b[0m\n\u001b[1;32m      8\u001b[0m     \u001b[0mj\u001b[0m \u001b[0;34m=\u001b[0m \u001b[0;36m1.0\u001b[0m\u001b[0;34m\u001b[0m\u001b[0;34m\u001b[0m\u001b[0m\n\u001b[1;32m      9\u001b[0m     \u001b[0;32mfor\u001b[0m \u001b[0mi\u001b[0m \u001b[0;32min\u001b[0m \u001b[0mrange\u001b[0m\u001b[0;34m(\u001b[0m\u001b[0mbj\u001b[0m\u001b[0;34m,\u001b[0m\u001b[0;36m1\u001b[0m\u001b[0;34m,\u001b[0m\u001b[0;34m-\u001b[0m\u001b[0;36m1\u001b[0m\u001b[0;34m)\u001b[0m\u001b[0;34m:\u001b[0m \u001b[0;31m#4: starting from the immediate left neighbor, steals part of its probability\u001b[0m\u001b[0;34m\u001b[0m\u001b[0;34m\u001b[0m\u001b[0m\n\u001b[0;32m---> 10\u001b[0;31m         \u001b[0mm\u001b[0m\u001b[0;34m[\u001b[0m\u001b[0mi\u001b[0m\u001b[0;34m]\u001b[0m \u001b[0;34m+=\u001b[0m \u001b[0mnp\u001b[0m\u001b[0;34m.\u001b[0m\u001b[0mpower\u001b[0m\u001b[0;34m(\u001b[0m\u001b[0mgamma\u001b[0m\u001b[0;34m,\u001b[0m\u001b[0mj\u001b[0m\u001b[0;34m)\u001b[0m \u001b[0;34m*\u001b[0m \u001b[0mm\u001b[0m\u001b[0;34m[\u001b[0m\u001b[0mi\u001b[0m\u001b[0;34m-\u001b[0m\u001b[0;36m1\u001b[0m\u001b[0;34m]\u001b[0m\u001b[0;34m\u001b[0m\u001b[0;34m\u001b[0m\u001b[0m\n\u001b[0m\u001b[1;32m     11\u001b[0m         \u001b[0mj\u001b[0m \u001b[0;34m+=\u001b[0m \u001b[0;36m1\u001b[0m\u001b[0;34m\u001b[0m\u001b[0;34m\u001b[0m\u001b[0m\n\u001b[1;32m     12\u001b[0m     \u001b[0mj\u001b[0m \u001b[0;34m=\u001b[0m \u001b[0;36m1\u001b[0m\u001b[0;34m\u001b[0m\u001b[0;34m\u001b[0m\u001b[0m\n",
      "\u001b[0;31mRuntimeError\u001b[0m: Expected object of type torch.FloatTensor but found type torch.DoubleTensor for argument #4 'other'"
     ]
    }
   ],
   "source": [
    "from random import shuffle\n",
    "for i in range(epochs):\n",
    "    pred = dist_dqn(state, theta, aspace=aspace)\n",
    "    if (i < replay_size) or (np.random.rand(1) < eps):  # 1: epsilon-greedy action selectoin\n",
    "        action = np.random.randint(aspace)\n",
    "    else: \n",
    "        action = get_action(pred.unsqueeze(dim=0).detach(), support).item()\n",
    "    \n",
    "    state2, reward, done, info = env.step(action)  #2: takes selected action in the environment\n",
    "    state2 = preproc_state(state2)\n",
    "    \n",
    "    if reward == 1:\n",
    "        cum_rewards.append(1)\n",
    "    reward = 10  if reward == 1 else reward  # 3: changes reward to +10 if environment produced reward of 1 (successful freeway crossing)\n",
    "    reward = -10 if done else reward  # 4: changes reward to -10 if game is over (no crossings after a long time)\n",
    "    reward = -1 if reward == 0 else reward # 5: changes reward to -1 if original reward was 0 (game is just continuiung); to penalize doing nothing\n",
    "    exp = (state, action, reward, state2)  # 6: prepares experience as a tuple of the starting state, the observed reward, the action taken, and the subsequent state\n",
    "    replay.append(exp) # adds experience to replay memory\n",
    "    \n",
    "    if reward == 10:  # 7: if reward is 10 -> indicates a successful crossing -> amplify this experience!\n",
    "        for e in range(priority_level):\n",
    "            replay.append(exp)\n",
    "    \n",
    "    shuffle(replay)\n",
    "    state = state2\n",
    "    \n",
    "    if len(replay) == replay_size:  # 8: once replay buffer is full -> begins training\n",
    "        indx = np.random.randint(low=0, high=len(replay), size=batch_size)\n",
    "        exps = [replay[j] for j in indx]\n",
    "        state_batch = torch.stack([ex[0] for ex in exps], dim=1).squeeze()\n",
    "        action_batch = torch.Tensor([ex[1] for ex in exps])\n",
    "        reward_batch = torch.Tensor([ex[2] for ex in exps])\n",
    "        state2_batch = torch.stack([ex[3] for ex in exps], dim=1).squeeze()\n",
    "        pred_batch  = dist_dqn(state_batch.detach(),  theta,   aspace=aspace)\n",
    "        pred2_batch = dist_dqn(state2_batch.detach(), theta_2, aspace=aspace)\n",
    "        target_dist = get_target_dist(pred2_batch, action_batch, reward_batch, \n",
    "                                      support, lim=(vmin, vmax), gamma=gamma)\n",
    "        loss = lossfn(pred_batch, target_dist.detach())\n",
    "        losses.append(loss.item())\n",
    "        loss.backward()\n",
    "        \n",
    "        with torch.no_grad():  # 9: gradient descent\n",
    "            theta -= lr * theta.grad\n",
    "        theta.requires_grad = True\n",
    "        \n",
    "        if i % update_freq == 0:  #10: synchronizes the target network parameters to the main model parameters\n",
    "            theta_2 = theta.detach().clone()\n",
    "            \n",
    "        if (i > 100) and (eps > eps_min):  # decrements epsilon as a function of the epoch number\n",
    "            dec = 1./np.log2(i)\n",
    "            dec /= 1e3\n",
    "            eps -= dec\n",
    "            \n",
    "        if done: \n",
    "            state = preproc_state(env.reset())\n",
    "            done = False\n",
    "    \n",
    "    "
   ]
  },
  {
   "cell_type": "code",
   "execution_count": null,
   "metadata": {},
   "outputs": [],
   "source": [
    "plt.plot(losses)"
   ]
  },
  {
   "cell_type": "code",
   "execution_count": null,
   "metadata": {},
   "outputs": [],
   "source": []
  },
  {
   "cell_type": "code",
   "execution_count": null,
   "metadata": {},
   "outputs": [],
   "source": []
  }
 ],
 "metadata": {
  "kernelspec": {
   "display_name": "Python 3",
   "language": "python",
   "name": "python3"
  },
  "language_info": {
   "codemirror_mode": {
    "name": "ipython",
    "version": 3
   },
   "file_extension": ".py",
   "mimetype": "text/x-python",
   "name": "python",
   "nbconvert_exporter": "python",
   "pygments_lexer": "ipython3",
   "version": "3.6.10"
  }
 },
 "nbformat": 4,
 "nbformat_minor": 4
}
